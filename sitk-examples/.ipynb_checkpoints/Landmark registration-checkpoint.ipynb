{
 "cells": [
  {
   "cell_type": "code",
   "execution_count": 3,
   "metadata": {},
   "outputs": [
    {
     "ename": "RuntimeError",
     "evalue": "Exception thrown in SimpleITK LandmarkBasedTransformInitializer: d:\\a\\1\\sitk-build\\itk-prefix\\include\\itk-5.1\\itkLandmarkBasedTransformInitializer.hxx:73:\nitk::ERROR: itk::ERROR: LandmarkBasedTransformInitializer(0000018E4748AE40): Unsupported Transform Type TranslationTransform",
     "output_type": "error",
     "traceback": [
      "\u001b[1;31m---------------------------------------------------------------------------\u001b[0m",
      "\u001b[1;31mRuntimeError\u001b[0m                              Traceback (most recent call last)",
      "\u001b[1;32m<ipython-input-3-2e8f5ac53fc4>\u001b[0m in \u001b[0;36m<module>\u001b[1;34m\u001b[0m\n\u001b[0;32m     20\u001b[0m initial_transformation = sitk.LandmarkBasedTransformInitializer(sitk.TranslationTransform(fixed_image.GetDimension()), \n\u001b[0;32m     21\u001b[0m                                                                 \u001b[0mfixed_image_points_flat\u001b[0m\u001b[1;33m,\u001b[0m\u001b[1;33m\u001b[0m\u001b[1;33m\u001b[0m\u001b[0m\n\u001b[1;32m---> 22\u001b[1;33m                                                                 moving_image_points_flat)\n\u001b[0m",
      "\u001b[1;32m~\\Anaconda3\\envs\\image-processing\\lib\\site-packages\\SimpleITK\\SimpleITK.py\u001b[0m in \u001b[0;36mLandmarkBasedTransformInitializer\u001b[1;34m(*args, **kwargs)\u001b[0m\n\u001b[0;32m   8761\u001b[0m \u001b[1;33m\u001b[0m\u001b[0m\n\u001b[0;32m   8762\u001b[0m     \"\"\"\n\u001b[1;32m-> 8763\u001b[1;33m     \u001b[1;32mreturn\u001b[0m \u001b[0m_SimpleITK\u001b[0m\u001b[1;33m.\u001b[0m\u001b[0mLandmarkBasedTransformInitializer\u001b[0m\u001b[1;33m(\u001b[0m\u001b[1;33m*\u001b[0m\u001b[0margs\u001b[0m\u001b[1;33m,\u001b[0m \u001b[1;33m**\u001b[0m\u001b[0mkwargs\u001b[0m\u001b[1;33m)\u001b[0m\u001b[1;33m\u001b[0m\u001b[1;33m\u001b[0m\u001b[0m\n\u001b[0m\u001b[0;32m   8764\u001b[0m \u001b[1;32mclass\u001b[0m \u001b[0mCastImageFilter\u001b[0m\u001b[1;33m(\u001b[0m\u001b[0mImageFilter\u001b[0m\u001b[1;33m)\u001b[0m\u001b[1;33m:\u001b[0m\u001b[1;33m\u001b[0m\u001b[1;33m\u001b[0m\u001b[0m\n\u001b[0;32m   8765\u001b[0m     r\"\"\"\n",
      "\u001b[1;31mRuntimeError\u001b[0m: Exception thrown in SimpleITK LandmarkBasedTransformInitializer: d:\\a\\1\\sitk-build\\itk-prefix\\include\\itk-5.1\\itkLandmarkBasedTransformInitializer.hxx:73:\nitk::ERROR: itk::ERROR: LandmarkBasedTransformInitializer(0000018E4748AE40): Unsupported Transform Type TranslationTransform"
     ]
    }
   ],
   "source": [
    "import SimpleITK as sitk\n",
    "import gui\n",
    "\n",
    "fixed_image = sitk.ReadImage(\"IR.PNG\", sitk.sitkFloat32) \n",
    "moving_image = sitk.ReadImage(\"VIS.JPG\", sitk.sitkFloat32)\n",
    "\n",
    "\n",
    "fixed_image_points = [(19,68), \n",
    "                      (206, 50), \n",
    "                      (88, 197), \n",
    "                      (173,188)]\n",
    "moving_image_points = [(2792, 1392), \n",
    "                       (4462, 1172), \n",
    "                       (3412, 2404), \n",
    "                       (4080, 2300)]\n",
    "\n",
    "fixed_image_points_flat = [c for p in fixed_image_points for c in p]        \n",
    "moving_image_points_flat = [c for p in moving_image_points for c in p]\n",
    "\n",
    "initial_transformation = sitk.LandmarkBasedTransformInitializer(sitk.TranslationTransform, \n",
    "                                                                fixed_image_points_flat, \n",
    "                                                                moving_image_points_flat)"
   ]
  },
  {
   "cell_type": "code",
   "execution_count": null,
   "metadata": {},
   "outputs": [],
   "source": []
  }
 ],
 "metadata": {
  "kernelspec": {
   "display_name": "Python 3",
   "language": "python",
   "name": "python3"
  },
  "language_info": {
   "codemirror_mode": {
    "name": "ipython",
    "version": 3
   },
   "file_extension": ".py",
   "mimetype": "text/x-python",
   "name": "python",
   "nbconvert_exporter": "python",
   "pygments_lexer": "ipython3",
   "version": "3.7.7"
  }
 },
 "nbformat": 4,
 "nbformat_minor": 4
}
